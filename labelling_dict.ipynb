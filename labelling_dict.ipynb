{
 "cells": [
  {
   "cell_type": "markdown",
   "metadata": {},
   "source": [
    "### Import necessary libraries"
   ]
  },
  {
   "cell_type": "code",
   "execution_count": 14,
   "metadata": {},
   "outputs": [],
   "source": [
    "import cv2 as cv\n",
    "import numpy as np\n",
    "from matplotlib import pyplot as plt"
   ]
  },
  {
   "cell_type": "code",
   "execution_count": null,
   "metadata": {},
   "outputs": [
    {
     "data": {
      "text/plain": [
       "<matplotlib.image.AxesImage at 0x7fb32bfc1950>"
      ]
     },
     "execution_count": 15,
     "metadata": {},
     "output_type": "execute_result"
    },
    {
     "data": {
      "image/png": "[encoded data removed]",
      "text/plain": [
       "<Figure size 640x480 with 1 Axes>"
      ]
     },
     "metadata": {},
     "output_type": "display_data"
    }
   ],
   "source": [
    "path2 = \"./assets/sample.png\"\n",
    "path2 = \"./assets/dino.png\"\n",
    "img1 = cv.imread(path2)\n",
    "plt.imshow(img1)"
   ]
  },
  {
   "cell_type": "markdown",
   "metadata": {},
   "source": [
    "### Read the image in original and grayscale format and convert it to binary format via thresholding"
   ]
  },
  {
   "cell_type": "code",
   "execution_count": 16,
   "metadata": {},
   "outputs": [
    {
     "data": {
      "image/png": "[encoded data removed]",
      "text/plain": [
       "<Figure size 640x480 with 3 Axes>"
      ]
     },
     "metadata": {},
     "output_type": "display_data"
    }
   ],
   "source": [
    "img = cv.imread(path2)\n",
    "gray = cv.imread(path2, cv.IMREAD_GRAYSCALE)\n",
    "ret,thresh1 = cv.threshold(gray,100,255,cv.THRESH_BINARY)\n",
    "titles = ['Original Image', 'GRAYSCALE', 'BINARY']\n",
    "images = [img, gray, thresh1]\n",
    "\n",
    "for i in range(3):\n",
    "    plt.subplot(2,3,i+1),plt.imshow(images[i],'gray',vmin=0,vmax=255)\n",
    "    plt.title(titles[i])\n",
    "    plt.xticks([]),plt.yticks([])\n",
    "\n",
    "plt.show()"
   ]
  },
  {
   "cell_type": "markdown",
   "metadata": {},
   "source": [
    "### Create a duplicate of the image"
   ]
  },
  {
   "cell_type": "code",
   "execution_count": 17,
   "metadata": {},
   "outputs": [],
   "source": [
    "thresh_copy = thresh1.copy()"
   ]
  },
  {
   "cell_type": "code",
   "execution_count": 18,
   "metadata": {},
   "outputs": [
    {
     "data": {
      "text/plain": [
       "array([[0, 0, 0, ..., 0, 0, 0],\n",
       "       [0, 0, 0, ..., 0, 0, 0],\n",
       "       [0, 0, 0, ..., 0, 0, 0],\n",
       "       ...,\n",
       "       [0, 0, 0, ..., 0, 0, 0],\n",
       "       [0, 0, 0, ..., 0, 0, 0],\n",
       "       [0, 0, 0, ..., 0, 0, 0]], shape=(150, 150), dtype=uint8)"
      ]
     },
     "execution_count": 18,
     "metadata": {},
     "output_type": "execute_result"
    }
   ],
   "source": [
    "thresh1"
   ]
  },
  {
   "cell_type": "code",
   "execution_count": 19,
   "metadata": {},
   "outputs": [
    {
     "data": {
      "text/plain": [
       "array([[0, 0, 0, ..., 0, 0, 0],\n",
       "       [0, 0, 0, ..., 0, 0, 0],\n",
       "       [0, 0, 0, ..., 0, 0, 0],\n",
       "       ...,\n",
       "       [0, 0, 0, ..., 0, 0, 0],\n",
       "       [0, 0, 0, ..., 0, 0, 0],\n",
       "       [0, 0, 0, ..., 0, 0, 0]], shape=(150, 150), dtype=uint8)"
      ]
     },
     "execution_count": 19,
     "metadata": {},
     "output_type": "execute_result"
    }
   ],
   "source": [
    "thresh_copy"
   ]
  },
  {
   "cell_type": "code",
   "execution_count": 20,
   "metadata": {},
   "outputs": [],
   "source": [
    "# identify the dimensions of image to traverse it\n",
    "rows, cols = thresh_copy.shape[0], thresh_copy.shape[1]\n",
    "# initialise label value to 0\n",
    "label = 0\n",
    "# dictionary to maintain relation between labels if it exists \n",
    "equivalency_dict = {}"
   ]
  },
  {
   "cell_type": "code",
   "execution_count": 21,
   "metadata": {},
   "outputs": [],
   "source": [
    "label_matrix = [[0 for _ in range(rows)] for _ in range(cols)]\n",
    "\n",
    "for i in range(rows):\n",
    "    for j in range(cols):\n",
    "        try:\n",
    "            if thresh_copy[i][j] == 255:\n",
    "                label_matrix[i][j] = 1\n",
    "        except Exception as e:\n",
    "            print(f\"Exception at ({i}, {j}): {e}\")"
   ]
  },
  {
   "cell_type": "code",
   "execution_count": 22,
   "metadata": {},
   "outputs": [],
   "source": [
    "# traverse the image row-wise\n",
    "for i in range(rows):\n",
    "  for j in range(cols):\n",
    "    # mark the pixel and it's top and left neighbour\n",
    "    curr_pixel = label_matrix[i][j]\n",
    "    top = label_matrix[i-1][j] if i > 0 else 0\n",
    "    left = label_matrix[i][j-1] if j > 0 else 0\n",
    "    \n",
    "    # if the current pixel is part of foreground\n",
    "    if curr_pixel == 1:\n",
    "      # if the pixel is not connected to any component \n",
    "      if top == 0 and left == 0:\n",
    "        # update label when new component discovered\n",
    "        label += 1\n",
    "        # mark the pixel with label\n",
    "        label_matrix[i][j] = label\n",
    "        # add the relation to dict\n",
    "        equivalency_dict[label] = label\n",
    "\n",
    "      elif top != 0 and left == 0:\n",
    "        label_matrix[i][j] = top\n",
    "            \n",
    "      elif top == 0 and left != 0:\n",
    "        label_matrix[i][j] = left\n",
    "\n",
    "      else:  # Both top and left are nonzero\n",
    "        min_label = min(top, left)\n",
    "        max_label = max(top, left)\n",
    "        # label the pixel with minimum value\n",
    "        label_matrix[i][j] = min_label\n",
    "        # add the relation between the max_label and min_label into dict\n",
    "        if equivalency_dict[int(max_label)] > int(min_label):\n",
    "          equivalency_dict[int(max_label)] = int(min_label)\n"
   ]
  },
  {
   "cell_type": "markdown",
   "metadata": {},
   "source": [
    "### Dictionary showing various equivalencies "
   ]
  },
  {
   "cell_type": "code",
   "execution_count": 23,
   "metadata": {},
   "outputs": [
    {
     "data": {
      "text/plain": [
       "{1: 1, 2: 1, 3: 2, 4: 2, 5: 3, 6: 3, 7: 3}"
      ]
     },
     "execution_count": 23,
     "metadata": {},
     "output_type": "execute_result"
    }
   ],
   "source": [
    "equivalency_dict"
   ]
  },
  {
   "cell_type": "code",
   "execution_count": 24,
   "metadata": {},
   "outputs": [
    {
     "name": "stdout",
     "output_type": "stream",
     "text": [
      "Minimal Equivalency Dict:\n"
     ]
    },
    {
     "data": {
      "text/plain": [
       "{1: 1, 2: 1, 3: 1, 4: 1, 5: 1, 6: 1, 7: 1}"
      ]
     },
     "execution_count": 24,
     "metadata": {},
     "output_type": "execute_result"
    }
   ],
   "source": [
    "# Function to find root label\n",
    "def find_root(label, eq_dict):\n",
    "    while eq_dict[label] != label:\n",
    "        label = eq_dict[label]\n",
    "    return label\n",
    "\n",
    "# Create minimal equivalency dict\n",
    "minimal_equivalency_dict = {}\n",
    "for key in equivalency_dict:\n",
    "    root = find_root(key, equivalency_dict)\n",
    "    minimal_equivalency_dict[key] = root\n",
    "\n",
    "# Also ensure that all root values point to themselves\n",
    "for val in minimal_equivalency_dict.values():\n",
    "    minimal_equivalency_dict[val] = val\n",
    "\n",
    "print(\"Minimal Equivalency Dict:\")\n",
    "minimal_equivalency_dict"
   ]
  },
  {
   "cell_type": "markdown",
   "metadata": {},
   "source": [
    "### Re-traverse the image to update the label based on equivalency dict"
   ]
  },
  {
   "cell_type": "code",
   "execution_count": 25,
   "metadata": {},
   "outputs": [],
   "source": [
    "for i in range(rows):\n",
    "  for j in range(cols):\n",
    "    # mark the pixels\n",
    "    curr_pixel = label_matrix[i][j]\n",
    "    top = label_matrix[i-1][j] if i > 0 else 0\n",
    "    left = label_matrix[i][j-1] if j > 0 else 0\n",
    "    \n",
    "    # if the current pixel is part of foreground\n",
    "    if curr_pixel != 0:\n",
    "      # update the label\n",
    "      connected_label = minimal_equivalency_dict[curr_pixel]\n",
    "      label_matrix[i][j] = connected_label"
   ]
  },
  {
   "cell_type": "code",
   "execution_count": 26,
   "metadata": {},
   "outputs": [
    {
     "data": {
      "text/plain": [
       "<matplotlib.image.AxesImage at 0x7fb32beff750>"
      ]
     },
     "execution_count": 26,
     "metadata": {},
     "output_type": "execute_result"
    },
    {
     "data": {
      "image/png": "[encoded data removed]",
      "text/plain": [
       "<Figure size 640x480 with 1 Axes>"
      ]
     },
     "metadata": {},
     "output_type": "display_data"
    }
   ],
   "source": [
    "plt.imshow(label_matrix)"
   ]
  }
 ],
 "metadata": {
  "kernelspec": {
   "display_name": ".venv",
   "language": "python",
   "name": "python3"
  },
  "language_info": {
   "codemirror_mode": {
    "name": "ipython",
    "version": 3
   },
   "file_extension": ".py",
   "mimetype": "text/x-python",
   "name": "python",
   "nbconvert_exporter": "python",
   "pygments_lexer": "ipython3",
   "version": "3.13.2"
  }
 },
 "nbformat": 4,
 "nbformat_minor": 2
}
